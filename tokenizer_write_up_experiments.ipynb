{
 "cells": [
  {
   "cell_type": "code",
   "execution_count": 1,
   "id": "2e20a39b",
   "metadata": {},
   "outputs": [
    {
     "data": {
      "text/plain": [
       "29275"
      ]
     },
     "execution_count": 1,
     "metadata": {},
     "output_type": "execute_result"
    }
   ],
   "source": [
    "ord('牛')"
   ]
  },
  {
   "cell_type": "code",
   "execution_count": 2,
   "id": "8532a4be",
   "metadata": {},
   "outputs": [
    {
     "data": {
      "text/plain": [
       "'牛'"
      ]
     },
     "execution_count": 2,
     "metadata": {},
     "output_type": "execute_result"
    }
   ],
   "source": [
    "chr(29275)"
   ]
  },
  {
   "cell_type": "code",
   "execution_count": 2,
   "id": "997e0a10",
   "metadata": {},
   "outputs": [
    {
     "name": "stdout",
     "output_type": "stream",
     "text": [
      "b'hello! this is is a test'\n"
     ]
    }
   ],
   "source": [
    "test_string = \"hello! this is is a test\"\n",
    "utf8_encoded = test_string.encode('utf-8')\n",
    "print(utf8_encoded)"
   ]
  },
  {
   "cell_type": "code",
   "execution_count": 3,
   "id": "549736a7",
   "metadata": {},
   "outputs": [
    {
     "name": "stdout",
     "output_type": "stream",
     "text": [
      "<class 'bytes'>\n",
      "[104, 101, 108, 108, 111, 33, 32, 116, 104, 105, 115, 32, 105, 115, 32, 105, 115, 32, 97, 32, 116, 101, 115, 116]\n"
     ]
    }
   ],
   "source": [
    "print(type(utf8_encoded))\n",
    "print(list(map(int,utf8_encoded)))"
   ]
  },
  {
   "cell_type": "code",
   "execution_count": null,
   "id": "181cb9a7",
   "metadata": {},
   "outputs": [],
   "source": [
    "from collections import defaultdict\n",
    "\n",
    "class BPE:\n",
    "    \n",
    "    def __init__(self, tokens:str, vocab_size:int) -> None:\n",
    "\n",
    "        self.tokens:str = tokens\n",
    "        self.vocab_size:int = vocab_size\n",
    "        self.vocab:dict[int, bytes] = {i:bytes([i]) for i in range(256)}\n",
    "        self.merge_sets:dict[int, tuple] = {}\n",
    "    \n",
    "    def get_tokens(self) -> list[int]:\n",
    "\n",
    "        return list(self.tokens.encode(\"utf-8\"))\n",
    "    \n",
    "    def get_stats(self, tokens:list[int]) -> dict:\n",
    "\n",
    "        freq_pair:dict[tuple, int] = defaultdict(int)\n",
    "        \n",
    "        for fisrt_word, second_word in zip (tokens, tokens[1:]):\n",
    "            freq_pair[(fisrt_word, second_word)] += 1\n",
    "        return freq_pair\n",
    "    \n",
    "    def get_most_frequent_pair(self, freq_pair:dict[tuple, int]) -> tuple:\n",
    "\n",
    "        pair_result:tuple\n",
    "        freq:int = 0\n",
    "\n",
    "        for pair, count in freq_pair.items():\n",
    "            if count > freq:\n",
    "                pair_result = pair\n",
    "                freq = count\n",
    "        return pair_result\n",
    "\n",
    "        \n",
    "    def merge(self, tokens: list[int], index: int) -> list[int]:\n",
    "\n",
    "        freq_pair: dict[tuple, int] = self.get_stats(tokens)\n",
    "\n",
    "        if not freq_pair:\n",
    "            raise ValueError(\"No frequent pairs found — cannot perform merge. The token list may be too short or already fully merged.\")\n",
    "\n",
    "        most_freq_pair = self.get_most_frequent_pair(freq_pair=freq_pair)\n",
    "        a, b = most_freq_pair\n",
    "\n",
    "        self.vocab[index] = self.vocab[a] + self.vocab[b]\n",
    "        self.merge_sets[index] = (a, b)\n",
    "\n",
    "        new_tokens = []\n",
    "        i = 0\n",
    "\n",
    "        while i < len(tokens):\n",
    "\n",
    "            if i < len(tokens) - 1 and tokens[i] == a and tokens[i + 1] == b:\n",
    "                new_tokens.append(index)\n",
    "                i += 2\n",
    "            else:\n",
    "                new_tokens.append(tokens[i])\n",
    "                i += 1\n",
    "\n",
    "        return new_tokens\n",
    "\n",
    "    def train(self) -> None:\n",
    "\n",
    "        tokens:list[int] = self.get_tokens()\n",
    "        num_merges:int = self.vocab_size - 256\n",
    "\n",
    "        for i in range(num_merges):\n",
    "            index:int = i + 256\n",
    "            tokens = self.merge(tokens, index)\n",
    "    \n",
    "    def decode(self, tokens: list[int]) -> str:\n",
    "\n",
    "        byte_sequence = b''.join(self.vocab[token] for token in tokens)\n",
    "        return byte_sequence.decode(\"utf-8\", errors=\"replace\")\n",
    "\n",
    "    def tokenize(self, text: str) -> list[int]:\n",
    "\n",
    "        tokens = list(text.encode(\"utf-8\"))\n",
    "\n",
    "        for index in sorted(self.merge_sets.keys()):\n",
    "\n",
    "            a, b = self.merge_sets[index]\n",
    "            i = 0\n",
    "            merged = []\n",
    "\n",
    "            while i < len(tokens):\n",
    "\n",
    "                if i < len(tokens) - 1 and tokens[i] == a and tokens[i + 1] == b:\n",
    "                    merged.append(index)\n",
    "                    i += 2\n",
    "                else:\n",
    "                    merged.append(tokens[i])\n",
    "                    i += 1\n",
    "            tokens = merged\n",
    "\n",
    "        return tokens\n"
   ]
  },
  {
   "cell_type": "code",
   "execution_count": 5,
   "id": "62982dcd",
   "metadata": {},
   "outputs": [
    {
     "name": "stdout",
     "output_type": "stream",
     "text": [
      "is the new text the same thing as the decoded? True\n"
     ]
    }
   ],
   "source": [
    "\n",
    "corpus = f\"LOUISVILLE, Ky. — A few unflattering reviews are to be expected with any hotel. The lobby of Hotel Louisville Pat McDonogh for Al Jazeera America Every homeless shelter has a NIMBY problem. Try building a new facility or renovating an old one and the neighbors come out of the woodwork to protest each additional bed. But the battle waged against Hotel Louisville was unusual even in the long history of Wayside Christian Mission, founded in 1957. The saga began six years ago, after the group finally raised enough money to replace its worn-out transitional-housing facility for women and kids. Initially, the married couple at Wayside’s helm — Tim Moseley, a bearded, heavyset minister, and his wife, Nina, an attorney with waist-length platinum blonde hair — intended to build on property it already owned along gentrifying Market Street. Real-estate developers with city-hall ties killed the plan, claiming the need for\"\n",
    "bpe = BPE(corpus, 300)\n",
    "bpe.train()\n",
    "new_text = f\"Then, in early 2009, the Moseleys heard that the downtown Holiday Inn, nicknamed “Hotel Louisville,” would be sold at a foreclosure auction. The final price tag of $10 million depleted all the funds Wayside had raised through its years-long capital campaign and proceeds from the Market Street sale, but at 187 rooms and 169,400 square feet, the building could house hundreds. Eighty-three homeless women moved into the hotel in November. Shortly thereafter, with utility costs mounting and many floors vacant, the Moseleys saw an opportunity. “People kept coming through and asking for a room,” Nina Moseley recalled. So Wayside opened Hotel Louisville to the public while continuing to provide shelter and substance-abuse recovery services to women in need, free of charge.\"\n",
    "encoded = bpe.tokenize(new_text)\n",
    "decoded = bpe.decode(encoded)\n",
    "print(f\"is the new text the same thing as the decoded? {new_text == decoded}\")"
   ]
  }
 ],
 "metadata": {
  "kernelspec": {
   "display_name": "base",
   "language": "python",
   "name": "python3"
  },
  "language_info": {
   "codemirror_mode": {
    "name": "ipython",
    "version": 3
   },
   "file_extension": ".py",
   "mimetype": "text/x-python",
   "name": "python",
   "nbconvert_exporter": "python",
   "pygments_lexer": "ipython3",
   "version": "3.12.7"
  }
 },
 "nbformat": 4,
 "nbformat_minor": 5
}
